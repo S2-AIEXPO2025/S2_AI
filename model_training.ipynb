{
 "cells": [
  {
   "cell_type": "code",
   "id": "initial_id",
   "metadata": {
    "collapsed": true,
    "ExecuteTime": {
     "end_time": "2025-04-03T12:36:49.452213Z",
     "start_time": "2025-04-03T12:36:49.449754Z"
    }
   },
   "source": "model_name = \"Bllossom/llama-3.2-Korean-Bllossom-3B\"",
   "outputs": [],
   "execution_count": 1
  },
  {
   "metadata": {
    "ExecuteTime": {
     "end_time": "2025-04-03T12:36:50.949304Z",
     "start_time": "2025-04-03T12:36:49.485643Z"
    }
   },
   "cell_type": "code",
   "source": "!pip install -q -U trl",
   "id": "5b757bffd4b50a4b",
   "outputs": [
    {
     "name": "stdout",
     "output_type": "stream",
     "text": [
      "\r\n",
      "\u001B[1m[\u001B[0m\u001B[34;49mnotice\u001B[0m\u001B[1;39;49m]\u001B[0m\u001B[39;49m A new release of pip is available: \u001B[0m\u001B[31;49m23.2.1\u001B[0m\u001B[39;49m -> \u001B[0m\u001B[32;49m25.0.1\u001B[0m\r\n",
      "\u001B[1m[\u001B[0m\u001B[34;49mnotice\u001B[0m\u001B[1;39;49m]\u001B[0m\u001B[39;49m To update, run: \u001B[0m\u001B[32;49mpip install --upgrade pip\u001B[0m\r\n"
     ]
    }
   ],
   "execution_count": 2
  },
  {
   "metadata": {
    "ExecuteTime": {
     "end_time": "2025-04-03T12:36:52.057844Z",
     "start_time": "2025-04-03T12:36:51.014834Z"
    }
   },
   "cell_type": "code",
   "source": "!pip install transformers",
   "id": "f263dd00ed6cc6dd",
   "outputs": [
    {
     "name": "stdout",
     "output_type": "stream",
     "text": [
      "Requirement already satisfied: transformers in ./.venv/lib/python3.12/site-packages (4.50.3)\r\n",
      "Requirement already satisfied: filelock in ./.venv/lib/python3.12/site-packages (from transformers) (3.18.0)\r\n",
      "Requirement already satisfied: huggingface-hub<1.0,>=0.26.0 in ./.venv/lib/python3.12/site-packages (from transformers) (0.29.3)\r\n",
      "Requirement already satisfied: numpy>=1.17 in ./.venv/lib/python3.12/site-packages (from transformers) (2.2.4)\r\n",
      "Requirement already satisfied: packaging>=20.0 in ./.venv/lib/python3.12/site-packages (from transformers) (24.2)\r\n",
      "Requirement already satisfied: pyyaml>=5.1 in ./.venv/lib/python3.12/site-packages (from transformers) (6.0.2)\r\n",
      "Requirement already satisfied: regex!=2019.12.17 in ./.venv/lib/python3.12/site-packages (from transformers) (2024.11.6)\r\n",
      "Requirement already satisfied: requests in ./.venv/lib/python3.12/site-packages (from transformers) (2.32.3)\r\n",
      "Requirement already satisfied: tokenizers<0.22,>=0.21 in ./.venv/lib/python3.12/site-packages (from transformers) (0.21.1)\r\n",
      "Requirement already satisfied: safetensors>=0.4.3 in ./.venv/lib/python3.12/site-packages (from transformers) (0.5.3)\r\n",
      "Requirement already satisfied: tqdm>=4.27 in ./.venv/lib/python3.12/site-packages (from transformers) (4.67.1)\r\n",
      "Requirement already satisfied: fsspec>=2023.5.0 in ./.venv/lib/python3.12/site-packages (from huggingface-hub<1.0,>=0.26.0->transformers) (2024.12.0)\r\n",
      "Requirement already satisfied: typing-extensions>=3.7.4.3 in ./.venv/lib/python3.12/site-packages (from huggingface-hub<1.0,>=0.26.0->transformers) (4.13.0)\r\n",
      "Requirement already satisfied: charset-normalizer<4,>=2 in ./.venv/lib/python3.12/site-packages (from requests->transformers) (3.4.1)\r\n",
      "Requirement already satisfied: idna<4,>=2.5 in ./.venv/lib/python3.12/site-packages (from requests->transformers) (3.10)\r\n",
      "Requirement already satisfied: urllib3<3,>=1.21.1 in ./.venv/lib/python3.12/site-packages (from requests->transformers) (2.3.0)\r\n",
      "Requirement already satisfied: certifi>=2017.4.17 in ./.venv/lib/python3.12/site-packages (from requests->transformers) (2025.1.31)\r\n",
      "\r\n",
      "\u001B[1m[\u001B[0m\u001B[34;49mnotice\u001B[0m\u001B[1;39;49m]\u001B[0m\u001B[39;49m A new release of pip is available: \u001B[0m\u001B[31;49m23.2.1\u001B[0m\u001B[39;49m -> \u001B[0m\u001B[32;49m25.0.1\u001B[0m\r\n",
      "\u001B[1m[\u001B[0m\u001B[34;49mnotice\u001B[0m\u001B[1;39;49m]\u001B[0m\u001B[39;49m To update, run: \u001B[0m\u001B[32;49mpip install --upgrade pip\u001B[0m\r\n"
     ]
    }
   ],
   "execution_count": 3
  },
  {
   "metadata": {
    "ExecuteTime": {
     "end_time": "2025-04-03T12:36:53.005644Z",
     "start_time": "2025-04-03T12:36:52.067153Z"
    }
   },
   "cell_type": "code",
   "source": "!pip install matplotlib",
   "id": "2ce093fdaf123b90",
   "outputs": [
    {
     "name": "stdout",
     "output_type": "stream",
     "text": [
      "Requirement already satisfied: matplotlib in ./.venv/lib/python3.12/site-packages (3.10.1)\r\n",
      "Requirement already satisfied: contourpy>=1.0.1 in ./.venv/lib/python3.12/site-packages (from matplotlib) (1.3.1)\r\n",
      "Requirement already satisfied: cycler>=0.10 in ./.venv/lib/python3.12/site-packages (from matplotlib) (0.12.1)\r\n",
      "Requirement already satisfied: fonttools>=4.22.0 in ./.venv/lib/python3.12/site-packages (from matplotlib) (4.56.0)\r\n",
      "Requirement already satisfied: kiwisolver>=1.3.1 in ./.venv/lib/python3.12/site-packages (from matplotlib) (1.4.8)\r\n",
      "Requirement already satisfied: numpy>=1.23 in ./.venv/lib/python3.12/site-packages (from matplotlib) (2.2.4)\r\n",
      "Requirement already satisfied: packaging>=20.0 in ./.venv/lib/python3.12/site-packages (from matplotlib) (24.2)\r\n",
      "Requirement already satisfied: pillow>=8 in ./.venv/lib/python3.12/site-packages (from matplotlib) (11.1.0)\r\n",
      "Requirement already satisfied: pyparsing>=2.3.1 in ./.venv/lib/python3.12/site-packages (from matplotlib) (3.2.3)\r\n",
      "Requirement already satisfied: python-dateutil>=2.7 in ./.venv/lib/python3.12/site-packages (from matplotlib) (2.9.0.post0)\r\n",
      "Requirement already satisfied: six>=1.5 in ./.venv/lib/python3.12/site-packages (from python-dateutil>=2.7->matplotlib) (1.17.0)\r\n",
      "\r\n",
      "\u001B[1m[\u001B[0m\u001B[34;49mnotice\u001B[0m\u001B[1;39;49m]\u001B[0m\u001B[39;49m A new release of pip is available: \u001B[0m\u001B[31;49m23.2.1\u001B[0m\u001B[39;49m -> \u001B[0m\u001B[32;49m25.0.1\u001B[0m\r\n",
      "\u001B[1m[\u001B[0m\u001B[34;49mnotice\u001B[0m\u001B[1;39;49m]\u001B[0m\u001B[39;49m To update, run: \u001B[0m\u001B[32;49mpip install --upgrade pip\u001B[0m\r\n"
     ]
    }
   ],
   "execution_count": 4
  },
  {
   "metadata": {
    "ExecuteTime": {
     "end_time": "2025-04-03T12:36:53.915927Z",
     "start_time": "2025-04-03T12:36:53.013417Z"
    }
   },
   "cell_type": "code",
   "source": "!pip install scikit-learn",
   "id": "ceeeb906b04bb365",
   "outputs": [
    {
     "name": "stdout",
     "output_type": "stream",
     "text": [
      "Requirement already satisfied: scikit-learn in ./.venv/lib/python3.12/site-packages (1.6.1)\r\n",
      "Requirement already satisfied: numpy>=1.19.5 in ./.venv/lib/python3.12/site-packages (from scikit-learn) (2.2.4)\r\n",
      "Requirement already satisfied: scipy>=1.6.0 in ./.venv/lib/python3.12/site-packages (from scikit-learn) (1.15.2)\r\n",
      "Requirement already satisfied: joblib>=1.2.0 in ./.venv/lib/python3.12/site-packages (from scikit-learn) (1.4.2)\r\n",
      "Requirement already satisfied: threadpoolctl>=3.1.0 in ./.venv/lib/python3.12/site-packages (from scikit-learn) (3.6.0)\r\n",
      "\r\n",
      "\u001B[1m[\u001B[0m\u001B[34;49mnotice\u001B[0m\u001B[1;39;49m]\u001B[0m\u001B[39;49m A new release of pip is available: \u001B[0m\u001B[31;49m23.2.1\u001B[0m\u001B[39;49m -> \u001B[0m\u001B[32;49m25.0.1\u001B[0m\r\n",
      "\u001B[1m[\u001B[0m\u001B[34;49mnotice\u001B[0m\u001B[1;39;49m]\u001B[0m\u001B[39;49m To update, run: \u001B[0m\u001B[32;49mpip install --upgrade pip\u001B[0m\r\n"
     ]
    }
   ],
   "execution_count": 5
  },
  {
   "metadata": {
    "ExecuteTime": {
     "end_time": "2025-04-03T12:37:02.398021Z",
     "start_time": "2025-04-03T12:36:53.921767Z"
    }
   },
   "cell_type": "code",
   "source": [
    "from transformers import (\n",
    "    AutoConfig, AutoTokenizer, TextDataset, DataCollatorForLanguageModeling,\n",
    "    PreTrainedTokenizer,\n",
    "    Trainer, TrainingArguments, AutoModelForCausalLM\n",
    ")\n",
    "from trl import SFTConfig, SFTTrainer\n",
    "import pandas as pd\n",
    "import matplotlib.pyplot as plt\n",
    "import torch\n",
    "\n",
    "from typing import Dict, List, Optional\n",
    "from torch.utils.data import Dataset"
   ],
   "id": "e43f96a45f7b3a56",
   "outputs": [
    {
     "name": "stderr",
     "output_type": "stream",
     "text": [
      "/Users/kdw/Documents/Projects/S2/.venv/lib/python3.12/site-packages/tqdm/auto.py:21: TqdmWarning: IProgress not found. Please update jupyter and ipywidgets. See https://ipywidgets.readthedocs.io/en/stable/user_install.html\n",
      "  from .autonotebook import tqdm as notebook_tqdm\n"
     ]
    }
   ],
   "execution_count": 6
  },
  {
   "metadata": {
    "ExecuteTime": {
     "end_time": "2025-04-03T12:37:02.456356Z",
     "start_time": "2025-04-03T12:37:02.404213Z"
    }
   },
   "cell_type": "code",
   "source": [
    "df = pd.read_csv(\"Korean Smile Style Dataset.tsv\", sep=\"\\t\")\n",
    "display(df.head())\n",
    "display(df.isna().mean())\n",
    "display(df.describe())\n",
    "print(df.shape)"
   ],
   "id": "5353832120428c9c",
   "outputs": [
    {
     "data": {
      "text/plain": [
       "                        formal                    informal  \\\n",
       "0       안녕하세요. 저는 고양이 6마리 키워요.          안녕! 나는 고양이 6마리 키워.   \n",
       "1     고양이를 6마리나요? 키우는거 안 힘드세요?      고양이를 6마리나? 키우는거 안 힘들어?   \n",
       "2  제가 워낙 고양이를 좋아해서 크게 힘들진 않아요.  내가 워낙 고양이를 좋아해서 크게 힘들진 않아.   \n",
       "3       가장 나이가 많은 고양이가 어떻게 돼요?       가장 나이가 많은 고양이가 몇 살이야?   \n",
       "4           여섯 살입니다. 갈색 고양이에요.            여섯 살이야. 갈색 고양이지.   \n",
       "\n",
       "                           android                                   azae  \\\n",
       "0  휴먼. 반갑다. 안드로이드는. 고양이. 6마리. 소유중.  아이고 안녕하십니까~ 나는 그냥 고양이 6마리 키우고 있는 사람이여   \n",
       "1             고양이. 6마리. 양육. 번거로운가.        아니 무슨 고양이를 6마리나? 거 키우는 거 안 힘든가?   \n",
       "2         안드로이드. 고양이. 선호. 힘들지. 않음.        내가 또 워~낙에 고양이를 좋아해서 크게 뭐 힘들진 않고   \n",
       "3           제일. 나이많은. 고양이. 나이. 무엇.                그려 가장 나이가 많은 고양이가 몇살이여?   \n",
       "4                    고양이. 갈색. 여섯살.                        6살인데 갈색 고양이 있어~   \n",
       "\n",
       "                     chat                 choding  \\\n",
       "0     하잉ㅋㅋ 나 떼걸룩 6마리 키운다!      ㅎㅇ 나 주인님 6마리 모심 ㅋㅋ   \n",
       "1       엥? 6마리나? 안힘듬?ㅋㅋㅋㅋ        6마리? 에바아니냐 안 힘듦?   \n",
       "2  내가 고양이 좋아해서 딱히 안힘듬 ㅋㅋㅋ  ㄱㅊ 나 고양이 환장해서 힘든 것도 모름   \n",
       "3     가장 나이 먹은 고양이가 몇살이야?         젤 낡은 고영희가 몇 살임?   \n",
       "4        이제 여섯살이고 갈색고양이임!                 6살, 갈색임   \n",
       "\n",
       "                                  emoticon  \\\n",
       "0        안녕!! >< 나는 고양이😺를 ➏ 마리 키우고있어!! 0_0   \n",
       "1  고양이를 6마리나?!! w(ﾟДﾟ)w 키우는거 안 힘듬?? (⊙_⊙;)   \n",
       "2    뭐 나야 워낙에 고양이 좋아하니까 딱히 안힘드엉! \\(@^0^@)/   \n",
       "3             가장 나이 먹은 고양인 몇 살이양? (´･ω･`)?   \n",
       "4           여설 살!! ㄱ^o^/ 색깔은 갈색! O(*￣▽￣*)ブ   \n",
       "\n",
       "                                       enfp                        gentle  \\\n",
       "0           안녕안녕~! 나 고양이 6마리나 키운다? 완전 대박이징~     안녕하십니까,, 저는 고양이 6마리 키웁니다.   \n",
       "1           고양이를 6마리나? 완전 대박~ 키우는 거 안 힘들어?!     고양이를 6마리나 키우십니까? 안 힘드신지,,   \n",
       "2  내가 또 워~낙에 고양이를 좋아하잖아~ 그렇게 크~게 힘들진 않아 ㅎㅎ~  제가 워낙 고양이를 좋아해서 크게 힘들진 않습니다.   \n",
       "3    대박대박 완전 대박!! 그럼 제~일 나이 많은 고양이는 몇살이야~?!         가장 나이가 있는 고양이가 몇살입니까?   \n",
       "4     6살인 애 있는데, 완전 귀.여.워. 갈색 고양이야 진짜 대박이지?              6살된 갈색 아이가 있습니다.   \n",
       "\n",
       "                                halbae                       halmae  \\\n",
       "0      안녕하신가~... 난 지금 고양이를 6마리 키우고 있다네  하유 시벌것 괭이놈 6마리 키우는데 힘들어 죽겟네   \n",
       "1             고양이를 6마리나? 키우는거 힘들지 않는가?      니기럴 털만 날리는 거 키우기 안 힘들데?   \n",
       "2  내가 워낙에...고양이가 좋아가지고 그렇게 힘들지 않어...^^         옘병 내가 좋아하니까 키워야지 시벌것   \n",
       "3        고양이들 중에서…가장 나이 먹을 애가 몇살인가?...     거 젤 빨리 뒤질 놈이 나이 얼마나 쳐먹었냐   \n",
       "4                  저…갈색 고양이인데…여섯살이지~..   저 노망난 갈색놈이 6살 뒤룩뒤룩 쳐먹은 놈이여   \n",
       "\n",
       "                   joongding                         king  \\\n",
       "0  안녕하냐 ㅡㅡ 나 씹냥이 6마리나 키운다 하;       반갑소. 짐은 고양이를 6마리나 키우오.   \n",
       "1        아니 고양이를 6마리나? 안힘드냐?    고양이를 6마리나? 키우는게 수고스럽진 않소?   \n",
       "2      고양이 좋아한다고ㅡㅡ 1도 안힘듬 ㅡㅡ  과인은 고양이를 어여삐 어겨 그리 수고스럽진 않소   \n",
       "3               가장 늙은애가 몇살인데        최고령 고양이의 나이는 어떻게 되는가?   \n",
       "4                여섯살 갈색냥인데 왜             여섯 살이오. 갈색 고양이오.   \n",
       "\n",
       "                         naruto                            seonbi  \\\n",
       "0   안녕하냐니깐! 난 고양이를 6마리 키우고있다니깐!       안녕하시오! 소인은 고양이를 6마리 키우고 있소!   \n",
       "1     고양이를 6마리나? 키우는거 힘들지 않냐니깐?     고양이를 6마리나 키우고 있는 것이오? 힘들지 않소?   \n",
       "2  내가 고양이를 엄청 좋아해서 별로 힘들지 않다니깐!  소인 고양이를 엄청 좋아하기 때문에 별로 힘들지 않소이다.   \n",
       "3   가장 나이 많이 먹은 고양이가 몇 살 이냐니깐?!          나이를 가장 많이 먹은 고양이가 몇 살이오?   \n",
       "4              갈색 고양이가 여섯살이라니깐!                     여섯 살에 갈색 고양이오   \n",
       "\n",
       "                                 sosim                     translator  \n",
       "0                  안녕… 난 고양이 6마리 키워 ㅠㅠ     반가운. 나는 6마리의 고양이를 소지하고 있다.  \n",
       "1         고양이..6마리나? ㅠ 키우는건 혹시 안힘들어..?  6마리의 고양이? 당신은 그들로부터 지치지 않습니까?  \n",
       "2  내가 고양이 워낙 좋아해서..ㅠㅠ 크게 힘들진 않은 것 같아..        나는 고양이의 큰 애호가. 지치지 않는다.  \n",
       "3        혹시.. 제일 나이 많은 고양이는.. 몇살이야..?ㅠ             가장 늙은 고양이가 몇 년입니까?  \n",
       "4                여섯살이야.. 갈색 ㅠㅠ 고양이야..ㅠ                 여섯. 고양이는 갈색이다.  "
      ],
      "text/html": [
       "<div>\n",
       "<style scoped>\n",
       "    .dataframe tbody tr th:only-of-type {\n",
       "        vertical-align: middle;\n",
       "    }\n",
       "\n",
       "    .dataframe tbody tr th {\n",
       "        vertical-align: top;\n",
       "    }\n",
       "\n",
       "    .dataframe thead th {\n",
       "        text-align: right;\n",
       "    }\n",
       "</style>\n",
       "<table border=\"1\" class=\"dataframe\">\n",
       "  <thead>\n",
       "    <tr style=\"text-align: right;\">\n",
       "      <th></th>\n",
       "      <th>formal</th>\n",
       "      <th>informal</th>\n",
       "      <th>android</th>\n",
       "      <th>azae</th>\n",
       "      <th>chat</th>\n",
       "      <th>choding</th>\n",
       "      <th>emoticon</th>\n",
       "      <th>enfp</th>\n",
       "      <th>gentle</th>\n",
       "      <th>halbae</th>\n",
       "      <th>halmae</th>\n",
       "      <th>joongding</th>\n",
       "      <th>king</th>\n",
       "      <th>naruto</th>\n",
       "      <th>seonbi</th>\n",
       "      <th>sosim</th>\n",
       "      <th>translator</th>\n",
       "    </tr>\n",
       "  </thead>\n",
       "  <tbody>\n",
       "    <tr>\n",
       "      <th>0</th>\n",
       "      <td>안녕하세요. 저는 고양이 6마리 키워요.</td>\n",
       "      <td>안녕! 나는 고양이 6마리 키워.</td>\n",
       "      <td>휴먼. 반갑다. 안드로이드는. 고양이. 6마리. 소유중.</td>\n",
       "      <td>아이고 안녕하십니까~ 나는 그냥 고양이 6마리 키우고 있는 사람이여</td>\n",
       "      <td>하잉ㅋㅋ 나 떼걸룩 6마리 키운다!</td>\n",
       "      <td>ㅎㅇ 나 주인님 6마리 모심 ㅋㅋ</td>\n",
       "      <td>안녕!! &gt;&lt; 나는 고양이😺를 ➏ 마리 키우고있어!! 0_0</td>\n",
       "      <td>안녕안녕~! 나 고양이 6마리나 키운다? 완전 대박이징~</td>\n",
       "      <td>안녕하십니까,, 저는 고양이 6마리 키웁니다.</td>\n",
       "      <td>안녕하신가~... 난 지금 고양이를 6마리 키우고 있다네</td>\n",
       "      <td>하유 시벌것 괭이놈 6마리 키우는데 힘들어 죽겟네</td>\n",
       "      <td>안녕하냐 ㅡㅡ 나 씹냥이 6마리나 키운다 하;</td>\n",
       "      <td>반갑소. 짐은 고양이를 6마리나 키우오.</td>\n",
       "      <td>안녕하냐니깐! 난 고양이를 6마리 키우고있다니깐!</td>\n",
       "      <td>안녕하시오! 소인은 고양이를 6마리 키우고 있소!</td>\n",
       "      <td>안녕… 난 고양이 6마리 키워 ㅠㅠ</td>\n",
       "      <td>반가운. 나는 6마리의 고양이를 소지하고 있다.</td>\n",
       "    </tr>\n",
       "    <tr>\n",
       "      <th>1</th>\n",
       "      <td>고양이를 6마리나요? 키우는거 안 힘드세요?</td>\n",
       "      <td>고양이를 6마리나? 키우는거 안 힘들어?</td>\n",
       "      <td>고양이. 6마리. 양육. 번거로운가.</td>\n",
       "      <td>아니 무슨 고양이를 6마리나? 거 키우는 거 안 힘든가?</td>\n",
       "      <td>엥? 6마리나? 안힘듬?ㅋㅋㅋㅋ</td>\n",
       "      <td>6마리? 에바아니냐 안 힘듦?</td>\n",
       "      <td>고양이를 6마리나?!! w(ﾟДﾟ)w 키우는거 안 힘듬?? (⊙_⊙;)</td>\n",
       "      <td>고양이를 6마리나? 완전 대박~ 키우는 거 안 힘들어?!</td>\n",
       "      <td>고양이를 6마리나 키우십니까? 안 힘드신지,,</td>\n",
       "      <td>고양이를 6마리나? 키우는거 힘들지 않는가?</td>\n",
       "      <td>니기럴 털만 날리는 거 키우기 안 힘들데?</td>\n",
       "      <td>아니 고양이를 6마리나? 안힘드냐?</td>\n",
       "      <td>고양이를 6마리나? 키우는게 수고스럽진 않소?</td>\n",
       "      <td>고양이를 6마리나? 키우는거 힘들지 않냐니깐?</td>\n",
       "      <td>고양이를 6마리나 키우고 있는 것이오? 힘들지 않소?</td>\n",
       "      <td>고양이..6마리나? ㅠ 키우는건 혹시 안힘들어..?</td>\n",
       "      <td>6마리의 고양이? 당신은 그들로부터 지치지 않습니까?</td>\n",
       "    </tr>\n",
       "    <tr>\n",
       "      <th>2</th>\n",
       "      <td>제가 워낙 고양이를 좋아해서 크게 힘들진 않아요.</td>\n",
       "      <td>내가 워낙 고양이를 좋아해서 크게 힘들진 않아.</td>\n",
       "      <td>안드로이드. 고양이. 선호. 힘들지. 않음.</td>\n",
       "      <td>내가 또 워~낙에 고양이를 좋아해서 크게 뭐 힘들진 않고</td>\n",
       "      <td>내가 고양이 좋아해서 딱히 안힘듬 ㅋㅋㅋ</td>\n",
       "      <td>ㄱㅊ 나 고양이 환장해서 힘든 것도 모름</td>\n",
       "      <td>뭐 나야 워낙에 고양이 좋아하니까 딱히 안힘드엉! \\(@^0^@)/</td>\n",
       "      <td>내가 또 워~낙에 고양이를 좋아하잖아~ 그렇게 크~게 힘들진 않아 ㅎㅎ~</td>\n",
       "      <td>제가 워낙 고양이를 좋아해서 크게 힘들진 않습니다.</td>\n",
       "      <td>내가 워낙에...고양이가 좋아가지고 그렇게 힘들지 않어...^^</td>\n",
       "      <td>옘병 내가 좋아하니까 키워야지 시벌것</td>\n",
       "      <td>고양이 좋아한다고ㅡㅡ 1도 안힘듬 ㅡㅡ</td>\n",
       "      <td>과인은 고양이를 어여삐 어겨 그리 수고스럽진 않소</td>\n",
       "      <td>내가 고양이를 엄청 좋아해서 별로 힘들지 않다니깐!</td>\n",
       "      <td>소인 고양이를 엄청 좋아하기 때문에 별로 힘들지 않소이다.</td>\n",
       "      <td>내가 고양이 워낙 좋아해서..ㅠㅠ 크게 힘들진 않은 것 같아..</td>\n",
       "      <td>나는 고양이의 큰 애호가. 지치지 않는다.</td>\n",
       "    </tr>\n",
       "    <tr>\n",
       "      <th>3</th>\n",
       "      <td>가장 나이가 많은 고양이가 어떻게 돼요?</td>\n",
       "      <td>가장 나이가 많은 고양이가 몇 살이야?</td>\n",
       "      <td>제일. 나이많은. 고양이. 나이. 무엇.</td>\n",
       "      <td>그려 가장 나이가 많은 고양이가 몇살이여?</td>\n",
       "      <td>가장 나이 먹은 고양이가 몇살이야?</td>\n",
       "      <td>젤 낡은 고영희가 몇 살임?</td>\n",
       "      <td>가장 나이 먹은 고양인 몇 살이양? (´･ω･`)?</td>\n",
       "      <td>대박대박 완전 대박!! 그럼 제~일 나이 많은 고양이는 몇살이야~?!</td>\n",
       "      <td>가장 나이가 있는 고양이가 몇살입니까?</td>\n",
       "      <td>고양이들 중에서…가장 나이 먹을 애가 몇살인가?...</td>\n",
       "      <td>거 젤 빨리 뒤질 놈이 나이 얼마나 쳐먹었냐</td>\n",
       "      <td>가장 늙은애가 몇살인데</td>\n",
       "      <td>최고령 고양이의 나이는 어떻게 되는가?</td>\n",
       "      <td>가장 나이 많이 먹은 고양이가 몇 살 이냐니깐?!</td>\n",
       "      <td>나이를 가장 많이 먹은 고양이가 몇 살이오?</td>\n",
       "      <td>혹시.. 제일 나이 많은 고양이는.. 몇살이야..?ㅠ</td>\n",
       "      <td>가장 늙은 고양이가 몇 년입니까?</td>\n",
       "    </tr>\n",
       "    <tr>\n",
       "      <th>4</th>\n",
       "      <td>여섯 살입니다. 갈색 고양이에요.</td>\n",
       "      <td>여섯 살이야. 갈색 고양이지.</td>\n",
       "      <td>고양이. 갈색. 여섯살.</td>\n",
       "      <td>6살인데 갈색 고양이 있어~</td>\n",
       "      <td>이제 여섯살이고 갈색고양이임!</td>\n",
       "      <td>6살, 갈색임</td>\n",
       "      <td>여설 살!! ㄱ^o^/ 색깔은 갈색! O(*￣▽￣*)ブ</td>\n",
       "      <td>6살인 애 있는데, 완전 귀.여.워. 갈색 고양이야 진짜 대박이지?</td>\n",
       "      <td>6살된 갈색 아이가 있습니다.</td>\n",
       "      <td>저…갈색 고양이인데…여섯살이지~..</td>\n",
       "      <td>저 노망난 갈색놈이 6살 뒤룩뒤룩 쳐먹은 놈이여</td>\n",
       "      <td>여섯살 갈색냥인데 왜</td>\n",
       "      <td>여섯 살이오. 갈색 고양이오.</td>\n",
       "      <td>갈색 고양이가 여섯살이라니깐!</td>\n",
       "      <td>여섯 살에 갈색 고양이오</td>\n",
       "      <td>여섯살이야.. 갈색 ㅠㅠ 고양이야..ㅠ</td>\n",
       "      <td>여섯. 고양이는 갈색이다.</td>\n",
       "    </tr>\n",
       "  </tbody>\n",
       "</table>\n",
       "</div>"
      ]
     },
     "metadata": {},
     "output_type": "display_data"
    },
    {
     "data": {
      "text/plain": [
       "formal        0.063428\n",
       "informal      0.063428\n",
       "android       0.520918\n",
       "azae          0.723347\n",
       "chat          0.063428\n",
       "choding       0.063428\n",
       "emoticon      0.514980\n",
       "enfp          0.544130\n",
       "gentle        0.540351\n",
       "halbae        0.515789\n",
       "halmae        0.726586\n",
       "joongding     0.063428\n",
       "king          0.520918\n",
       "naruto        0.514980\n",
       "seonbi        0.514980\n",
       "sosim         0.520918\n",
       "translator    0.594062\n",
       "dtype: float64"
      ]
     },
     "metadata": {},
     "output_type": "display_data"
    },
    {
     "data": {
      "text/plain": [
       "        formal informal android                                   azae  chat  \\\n",
       "count     3470     3470    1775                                   1025  3470   \n",
       "unique    3430     3417    1748                                   1025  3437   \n",
       "top     안녕하세요.      안녕.    반갑다.  아이고 안녕하십니까~ 나는 그냥 고양이 6마리 키우고 있는 사람이여    하이   \n",
       "freq        23       25      10                                      1    13   \n",
       "\n",
       "       choding      emoticon  enfp  gentle  halbae halmae joongding  king  \\\n",
       "count     3470          1797  1689    1703    1794   1013      3470  1775   \n",
       "unique    3390          1793  1679    1691    1784   1005      3396  1759   \n",
       "top         왜?  안녕! (ﾉ*･ω･)ﾉ   안뇽~  안녕하십니까  안녕하신가…  왜 땜시?        ㅎㅇ  반갑소.   \n",
       "freq        37             3     6       5       8      4        29     7   \n",
       "\n",
       "         naruto  seonbi sosim translator  \n",
       "count      1797    1797  1775       1504  \n",
       "unique     1779    1784  1758       1489  \n",
       "top     안녕하냐니깐!  안녕하시오!  안녕..       반가운.  \n",
       "freq          9       9     9          9  "
      ],
      "text/html": [
       "<div>\n",
       "<style scoped>\n",
       "    .dataframe tbody tr th:only-of-type {\n",
       "        vertical-align: middle;\n",
       "    }\n",
       "\n",
       "    .dataframe tbody tr th {\n",
       "        vertical-align: top;\n",
       "    }\n",
       "\n",
       "    .dataframe thead th {\n",
       "        text-align: right;\n",
       "    }\n",
       "</style>\n",
       "<table border=\"1\" class=\"dataframe\">\n",
       "  <thead>\n",
       "    <tr style=\"text-align: right;\">\n",
       "      <th></th>\n",
       "      <th>formal</th>\n",
       "      <th>informal</th>\n",
       "      <th>android</th>\n",
       "      <th>azae</th>\n",
       "      <th>chat</th>\n",
       "      <th>choding</th>\n",
       "      <th>emoticon</th>\n",
       "      <th>enfp</th>\n",
       "      <th>gentle</th>\n",
       "      <th>halbae</th>\n",
       "      <th>halmae</th>\n",
       "      <th>joongding</th>\n",
       "      <th>king</th>\n",
       "      <th>naruto</th>\n",
       "      <th>seonbi</th>\n",
       "      <th>sosim</th>\n",
       "      <th>translator</th>\n",
       "    </tr>\n",
       "  </thead>\n",
       "  <tbody>\n",
       "    <tr>\n",
       "      <th>count</th>\n",
       "      <td>3470</td>\n",
       "      <td>3470</td>\n",
       "      <td>1775</td>\n",
       "      <td>1025</td>\n",
       "      <td>3470</td>\n",
       "      <td>3470</td>\n",
       "      <td>1797</td>\n",
       "      <td>1689</td>\n",
       "      <td>1703</td>\n",
       "      <td>1794</td>\n",
       "      <td>1013</td>\n",
       "      <td>3470</td>\n",
       "      <td>1775</td>\n",
       "      <td>1797</td>\n",
       "      <td>1797</td>\n",
       "      <td>1775</td>\n",
       "      <td>1504</td>\n",
       "    </tr>\n",
       "    <tr>\n",
       "      <th>unique</th>\n",
       "      <td>3430</td>\n",
       "      <td>3417</td>\n",
       "      <td>1748</td>\n",
       "      <td>1025</td>\n",
       "      <td>3437</td>\n",
       "      <td>3390</td>\n",
       "      <td>1793</td>\n",
       "      <td>1679</td>\n",
       "      <td>1691</td>\n",
       "      <td>1784</td>\n",
       "      <td>1005</td>\n",
       "      <td>3396</td>\n",
       "      <td>1759</td>\n",
       "      <td>1779</td>\n",
       "      <td>1784</td>\n",
       "      <td>1758</td>\n",
       "      <td>1489</td>\n",
       "    </tr>\n",
       "    <tr>\n",
       "      <th>top</th>\n",
       "      <td>안녕하세요.</td>\n",
       "      <td>안녕.</td>\n",
       "      <td>반갑다.</td>\n",
       "      <td>아이고 안녕하십니까~ 나는 그냥 고양이 6마리 키우고 있는 사람이여</td>\n",
       "      <td>하이</td>\n",
       "      <td>왜?</td>\n",
       "      <td>안녕! (ﾉ*･ω･)ﾉ</td>\n",
       "      <td>안뇽~</td>\n",
       "      <td>안녕하십니까</td>\n",
       "      <td>안녕하신가…</td>\n",
       "      <td>왜 땜시?</td>\n",
       "      <td>ㅎㅇ</td>\n",
       "      <td>반갑소.</td>\n",
       "      <td>안녕하냐니깐!</td>\n",
       "      <td>안녕하시오!</td>\n",
       "      <td>안녕..</td>\n",
       "      <td>반가운.</td>\n",
       "    </tr>\n",
       "    <tr>\n",
       "      <th>freq</th>\n",
       "      <td>23</td>\n",
       "      <td>25</td>\n",
       "      <td>10</td>\n",
       "      <td>1</td>\n",
       "      <td>13</td>\n",
       "      <td>37</td>\n",
       "      <td>3</td>\n",
       "      <td>6</td>\n",
       "      <td>5</td>\n",
       "      <td>8</td>\n",
       "      <td>4</td>\n",
       "      <td>29</td>\n",
       "      <td>7</td>\n",
       "      <td>9</td>\n",
       "      <td>9</td>\n",
       "      <td>9</td>\n",
       "      <td>9</td>\n",
       "    </tr>\n",
       "  </tbody>\n",
       "</table>\n",
       "</div>"
      ]
     },
     "metadata": {},
     "output_type": "display_data"
    },
    {
     "name": "stdout",
     "output_type": "stream",
     "text": [
      "(3705, 17)\n"
     ]
    }
   ],
   "execution_count": 7
  },
  {
   "metadata": {
    "ExecuteTime": {
     "end_time": "2025-04-03T12:37:02.594214Z",
     "start_time": "2025-04-03T12:37:02.494345Z"
    }
   },
   "cell_type": "code",
   "source": [
    "row_notna_count = df.notna().sum(axis=1) # df에서 NaN이 아닌 것들을 True로 변경 후, 가로 방향으로 더한 것을 dataframe으로 나타낸 것\n",
    "row_notna_count.plot.hist(bins=row_notna_count.max()) # 히스토그램의 가로축 범위를 지정하는 bins를 사용하여 가로축 범위를 row_notna_count의 최댓값인 17로 설정되게 함.\n",
    "plt.show() # 표 출력\n",
    "\n",
    "df = df[row_notna_count >= 2] # NaN이 아닌 값이 2개 이상의 열에 들어있는 것만 df에 입력\n",
    "print(len(df))"
   ],
   "id": "8aacdbe91fdc9d89",
   "outputs": [
    {
     "data": {
      "text/plain": [
       "<Figure size 640x480 with 1 Axes>"
      ],
      "image/png": "[encoded data removed]"
     },
     "metadata": {},
     "output_type": "display_data"
    },
    {
     "name": "stdout",
     "output_type": "stream",
     "text": [
      "3470\n"
     ]
    }
   ],
   "execution_count": 8
  },
  {
   "metadata": {
    "ExecuteTime": {
     "end_time": "2025-04-03T12:37:03.355066Z",
     "start_time": "2025-04-03T12:37:02.600284Z"
    }
   },
   "cell_type": "code",
   "source": [
    "config = AutoConfig.from_pretrained(model_name)\n",
    "tokenizer = AutoTokenizer.from_pretrained(model_name)\n",
    "tokenizer.pad_token = tokenizer.eos_token"
   ],
   "id": "a7174082a3821f14",
   "outputs": [],
   "execution_count": 9
  },
  {
   "metadata": {
    "ExecuteTime": {
     "end_time": "2025-04-03T12:37:03.759958Z",
     "start_time": "2025-04-03T12:37:03.366704Z"
    }
   },
   "cell_type": "code",
   "source": [
    "df_dropped = df.drop([\"emoticon\"], axis=1) # emoticon 말투를 제외한 데이터셋\n",
    "lengths = []\n",
    "\n",
    "for column in df_dropped.columns:\n",
    "  out = tokenizer(df[column][df[column].notna()].tolist()) # df[column].notna()를 해서 True로 나오는 NaN이 아닌 값들을 모아 list 형태로 변환하여 tokenizer에 전송\n",
    "  out = [len(x) for x in out['input_ids']] # 토큰화된 문장들의 길이를 리스트로 저장\n",
    "  lengths.extend(out) # 리스트로 추가하는 것이 아닌 각각의 숫자로 lengths 리스트에 추가 (append, extend 차이 검색)\n",
    "\n",
    "lengths = pd.Series(lengths) # lengths를 데이터프레임 형식으로 변환"
   ],
   "id": "bdca675e55a56edc",
   "outputs": [],
   "execution_count": 10
  },
  {
   "metadata": {
    "ExecuteTime": {
     "end_time": "2025-04-03T12:37:03.833082Z",
     "start_time": "2025-04-03T12:37:03.772009Z"
    }
   },
   "cell_type": "code",
   "source": [
    "display(lengths.describe()) # 토큰화된 문장들의 특징들을 표시\n",
    "lengths.plot.hist(bins=80) # 히스토그램에서 80개의 막대로 lengths의 데이터 분포를 그래프로 출력"
   ],
   "id": "22af75b5c30b5da9",
   "outputs": [
    {
     "data": {
      "text/plain": [
       "count    34996.000000\n",
       "mean        18.297377\n",
       "std          8.625557\n",
       "min          2.000000\n",
       "25%         12.000000\n",
       "50%         17.000000\n",
       "75%         23.000000\n",
       "max         97.000000\n",
       "dtype: float64"
      ]
     },
     "metadata": {},
     "output_type": "display_data"
    },
    {
     "data": {
      "text/plain": [
       "<Axes: ylabel='Frequency'>"
      ]
     },
     "execution_count": 11,
     "metadata": {},
     "output_type": "execute_result"
    },
    {
     "data": {
      "text/plain": [
       "<Figure size 640x480 with 1 Axes>"
      ],
      "image/png": "[encoded data removed]"
     },
     "metadata": {},
     "output_type": "display_data"
    }
   ],
   "execution_count": 11
  },
  {
   "metadata": {
    "ExecuteTime": {
     "end_time": "2025-04-03T12:37:03.847684Z",
     "start_time": "2025-04-03T12:37:03.845348Z"
    }
   },
   "cell_type": "code",
   "source": [
    "class TextStyleTransferDataset(Dataset): \n",
    "    def __init__(self, df: pd.DataFrame, tokenizer: PreTrainedTokenizer, tokenizer_params: Dict = {}):\n",
    "        self.df = df\n",
    "        self.tokenizer = tokenizer\n",
    "        self.tokenizer_params = tokenizer_params\n",
    "\n",
    "    def __len__(self):\n",
    "        return len(self.df)  # 데이터프레임 길이 반환\n",
    "\n",
    "    def __getitem__(self, index):\n",
    "        row = self.df.iloc[index, :].dropna().sample(2)  # 샘플 2개 선택\n",
    "        text1 = row.iloc[0]  \n",
    "        text2 = row.iloc[1]  \n",
    "        target_style = row.index[1]  # 스타일 정보 저장\n",
    "\n",
    "        line = f\"{text1}[{target_style}]{text2}[SEP]\"\n",
    "        out = self.tokenizer(line, **self.tokenizer_params)  # 토큰화 수행\n",
    "\n",
    "        return {key: torch.tensor(value) for key, value in out.items()}  # PyTorch 텐서로 변환"
   ],
   "id": "95d121835a674d2a",
   "outputs": [],
   "execution_count": 12
  },
  {
   "metadata": {
    "ExecuteTime": {
     "end_time": "2025-04-03T12:37:03.863702Z",
     "start_time": "2025-04-03T12:37:03.859220Z"
    }
   },
   "cell_type": "code",
   "source": [
    "tokenizer_params = dict(\n",
    "    return_tensors='pt', # 파라미터를 pytorch tensor로 반환\n",
    "    truncation=True, # token화된 문장을 max_length 길이로 자르기 (긴 경우)\n",
    "    padding=\"max_length\", # max_length 길이로 패딩 (짧은 경우)\n",
    "    add_special_tokens=True, # 함수 내부에서 자동적으로 [CLS], [SEP] 토큰을 추가해줌\n",
    "    max_length=50 # max_length 지정\n",
    ")\n",
    "\n",
    "dataset = TextStyleTransferDataset(df_dropped, tokenizer, tokenizer_params) # 이모티콘을 제외한 데이터프레임을 전달하여 토큰 임베딩\n",
    "out = dataset[0]\n",
    "print(out['input_ids'][0])\n",
    "print(tokenizer.decode(out['input_ids'][0]))\n",
    "\n",
    "out = dataset[1]\n",
    "print(out['input_ids'][0])\n",
    "print(tokenizer.decode(out['input_ids'][0]))"
   ],
   "id": "ab5b23a8daef54b9",
   "outputs": [
    {
     "name": "stdout",
     "output_type": "stream",
     "text": [
      "tensor([128000, 101193, 124409,     13, 102678,  16969, 101254, 101927,  13094,\n",
      "           220,     21, 100711,  29102, 108652, 103430,  36811,   8032,    331,\n",
      "          3785,     60, 116507, 100900,  74618,  56773,  32428, 102424,    220,\n",
      "            21, 100711,  29102,  55170, 102612, 125736,     58,  82476,     60,\n",
      "        128009, 128009, 128009, 128009, 128009, 128009, 128009, 128009, 128009,\n",
      "        128009, 128009, 128009, 128009, 128009])\n",
      "<|begin_of_text|>안녕하세요. 저는 고양이 6마리 키워요.[choding]ㅎㅇ 나 주인님 6마리 모심 ㅋㅋ[SEP]<|eot_id|><|eot_id|><|eot_id|><|eot_id|><|eot_id|><|eot_id|><|eot_id|><|eot_id|><|eot_id|><|eot_id|><|eot_id|><|eot_id|><|eot_id|><|eot_id|>\n",
      "tensor([128000,  35495, 101927, 119165,    220,     21, 100711,  29102,  61415,\n",
      "            30, 108652,  41381,  16969,  93292, 110671,  65950,  22035,  51796,\n",
      "        106888,  84136,  84291,    238,  61864,  12130, 117171,     60,  84136,\n",
      "         21121, 121408, 111109,    116,  73653, 105605, 104374, 101429, 108652,\n",
      "         41381,  21121,  96270, 110671,  65950, 100933,  61864,  82476,     60,\n",
      "        128009, 128009, 128009, 128009, 128009])\n",
      "<|begin_of_text|>고양이를 6마리나? 키우는거 힘들지 않냐니깐?[halmae]니기럴 털만 날리는 거 키우기 안 힘들데?[SEP]<|eot_id|><|eot_id|><|eot_id|><|eot_id|><|eot_id|>\n"
     ]
    },
    {
     "name": "stderr",
     "output_type": "stream",
     "text": [
      "/var/folders/lc/0bw1kcd572v6_tw8vvdwhb7r0000gn/T/ipykernel_18037/3291157668.py:19: UserWarning: To copy construct from a tensor, it is recommended to use sourceTensor.clone().detach() or sourceTensor.clone().detach().requires_grad_(True), rather than torch.tensor(sourceTensor).\n",
      "  return {key: torch.tensor(value) for key, value in out.items()}  # PyTorch 텐서로 변환\n"
     ]
    }
   ],
   "execution_count": 13
  },
  {
   "metadata": {
    "ExecuteTime": {
     "end_time": "2025-04-03T12:37:03.913945Z",
     "start_time": "2025-04-03T12:37:03.876762Z"
    }
   },
   "cell_type": "code",
   "source": [
    "from sklearn.model_selection import train_test_split\n",
    "\n",
    "df_train, df_test = train_test_split(df_dropped, test_size=0.1, random_state=42) # 학습데이터, 테스트데이터 분리\n",
    "print(len(df_train), len(df_test))"
   ],
   "id": "bdb8a1e9eb1ffb75",
   "outputs": [
    {
     "name": "stdout",
     "output_type": "stream",
     "text": [
      "3123 347\n"
     ]
    }
   ],
   "execution_count": 14
  },
  {
   "metadata": {
    "ExecuteTime": {
     "end_time": "2025-04-03T12:37:03.930584Z",
     "start_time": "2025-04-03T12:37:03.928715Z"
    }
   },
   "cell_type": "code",
   "source": [
    "tokenizer_params = dict(\n",
    "    return_tensors='pt',\n",
    "    truncation=True,\n",
    "    padding=\"max_length\",\n",
    "    add_special_tokens=True,\n",
    "    max_length=100\n",
    ")\n",
    "train_dataset = TextStyleTransferDataset(\n",
    "    df_train, # 학습데이터를 토큰화\n",
    "    tokenizer,\n",
    "    tokenizer_params\n",
    ")\n",
    "test_dataset = TextStyleTransferDataset(\n",
    "    df_test, # 테스트데이터 토큰화\n",
    "    tokenizer,\n",
    "    tokenizer_params\n",
    ")\n",
    "\n",
    "data_collator = DataCollatorForLanguageModeling(\n",
    "    tokenizer=tokenizer, mlm=False, # 토큰 자동 패딩을 허용하지 않음\n",
    ")"
   ],
   "id": "46ffc633d5d8c771",
   "outputs": [],
   "execution_count": 15
  },
  {
   "metadata": {
    "ExecuteTime": {
     "end_time": "2025-04-03T12:37:11.797535Z",
     "start_time": "2025-04-03T12:37:03.944943Z"
    }
   },
   "cell_type": "code",
   "source": [
    "model = AutoModelForCausalLM.from_pretrained(model_name)\n",
    "model.config.pad_token_id = model.config.eos_token_id"
   ],
   "id": "124893789c1e860",
   "outputs": [
    {
     "name": "stderr",
     "output_type": "stream",
     "text": [
      "Loading checkpoint shards:   0%|          | 0/2 [00:00<?, ?it/s]huggingface/tokenizers: The current process just got forked, after parallelism has already been used. Disabling parallelism to avoid deadlocks...\n",
      "To disable this warning, you can either:\n",
      "\t- Avoid using `tokenizers` before the fork if possible\n",
      "\t- Explicitly set the environment variable TOKENIZERS_PARALLELISM=(true | false)\n",
      "Loading checkpoint shards: 100%|██████████| 2/2 [00:07<00:00,  3.65s/it]\n"
     ]
    }
   ],
   "execution_count": 16
  },
  {
   "metadata": {
    "ExecuteTime": {
     "end_time": "2025-04-03T12:37:12.440903Z",
     "start_time": "2025-04-03T12:37:11.843764Z"
    }
   },
   "cell_type": "code",
   "source": [
    "model_path = \"/Users/kdw/Documents/Projects/S2/data\"\n",
    "\n",
    "training_args = TrainingArguments(\n",
    "    output_dir=model_path, #The output directory / 모델 학습 이후 weight 저장 경로 지정\n",
    "    overwrite_output_dir=True, #overwrite the content of the output directory / weight 파일이 존재하면 덮어쓰기\n",
    "    num_train_epochs=40, # number of training epochs / 전체 데이터셋이 신경망을 40번 통과하게 함\n",
    "    per_device_train_batch_size=16, # batch size for training / 학습시킬 때 사용할 배치 사이즈 (한번에 학습시킬 데이터의 크기)\n",
    "    per_device_eval_batch_size=16,  # batch size for evaluation / 결과 낼 때 사용할 배치 사이즈\n",
    "    eval_steps=500, # Number of update steps between two evaluations. / 500번의 배치마다 평가를 함\n",
    "    save_steps=500, # after # steps model is saved / 500번의 배치마다 체크포인트를 저장함\n",
    "    warmup_steps=300,# number of warmup steps for learning rate scheduler / 300번의 배치까지 점진적으로 학습률을 올리다가 그 후로는 steps의 규칙에 따라 학습하게 함\n",
    "    prediction_loss_only=True, # prediction을 실행할 때마다 loss값만 반환하게 함\n",
    "    evaluation_strategy=\"steps\" # 평가를 어떠한 형식으로 할 것인지 설정. (no, steps, epoch로 설정할 수 있으며, no로 정해둘 경우 eval_steps와 save_steps가 의미 없어짐.)\n",
    "    )\n",
    "\n",
    "trainer = SFTTrainer(\n",
    "    model=model, # 지정한 모델로 학습할 것이라고 설정\n",
    "    # args=training_args, # 위에서 설정한 arguments(전달 인자)를 Trainer로 입력\n",
    "    args=SFTConfig(output_dir=\"./ckpt\"),\n",
    "    data_collator=data_collator, # 패딩, 마스킹 등 전처리 작업을 설정한 값을 전달\n",
    "    train_dataset=train_dataset, # 학습 데이터셋 전달\n",
    "    formatting_func=None\n",
    "    # eval_dataset=test_dataset, # 평가 데이터셋 전달\n",
    ")"
   ],
   "id": "a09384095aa37c8",
   "outputs": [
    {
     "name": "stderr",
     "output_type": "stream",
     "text": [
      "/Users/kdw/Documents/Projects/S2/.venv/lib/python3.12/site-packages/transformers/training_args.py:1611: FutureWarning: `evaluation_strategy` is deprecated and will be removed in version 4.46 of 🤗 Transformers. Use `eval_strategy` instead\n",
      "  warnings.warn(\n",
      "/var/folders/lc/0bw1kcd572v6_tw8vvdwhb7r0000gn/T/ipykernel_18037/3291157668.py:19: UserWarning: To copy construct from a tensor, it is recommended to use sourceTensor.clone().detach() or sourceTensor.clone().detach().requires_grad_(True), rather than torch.tensor(sourceTensor).\n",
      "  return {key: torch.tensor(value) for key, value in out.items()}  # PyTorch 텐서로 변환\n"
     ]
    },
    {
     "ename": "AttributeError",
     "evalue": "'TextStyleTransferDataset' object has no attribute 'map'",
     "output_type": "error",
     "traceback": [
      "\u001B[31m---------------------------------------------------------------------------\u001B[39m",
      "\u001B[31mAttributeError\u001B[39m                            Traceback (most recent call last)",
      "\u001B[36mCell\u001B[39m\u001B[36m \u001B[39m\u001B[32mIn[17]\u001B[39m\u001B[32m, line 16\u001B[39m\n\u001B[32m      1\u001B[39m model_path = \u001B[33m\"\u001B[39m\u001B[33m/Users/kdw/Documents/Projects/S2/data\u001B[39m\u001B[33m\"\u001B[39m\n\u001B[32m      3\u001B[39m training_args = TrainingArguments(\n\u001B[32m      4\u001B[39m     output_dir=model_path, \u001B[38;5;66;03m#The output directory / 모델 학습 이후 weight 저장 경로 지정\u001B[39;00m\n\u001B[32m      5\u001B[39m     overwrite_output_dir=\u001B[38;5;28;01mTrue\u001B[39;00m, \u001B[38;5;66;03m#overwrite the content of the output directory / weight 파일이 존재하면 덮어쓰기\u001B[39;00m\n\u001B[32m   (...)\u001B[39m\u001B[32m     13\u001B[39m     evaluation_strategy=\u001B[33m\"\u001B[39m\u001B[33msteps\u001B[39m\u001B[33m\"\u001B[39m \u001B[38;5;66;03m# 평가를 어떠한 형식으로 할 것인지 설정. (no, steps, epoch로 설정할 수 있으며, no로 정해둘 경우 eval_steps와 save_steps가 의미 없어짐.)\u001B[39;00m\n\u001B[32m     14\u001B[39m     )\n\u001B[32m---> \u001B[39m\u001B[32m16\u001B[39m trainer = \u001B[43mSFTTrainer\u001B[49m\u001B[43m(\u001B[49m\n\u001B[32m     17\u001B[39m \u001B[43m    \u001B[49m\u001B[43mmodel\u001B[49m\u001B[43m=\u001B[49m\u001B[43mmodel\u001B[49m\u001B[43m,\u001B[49m\u001B[43m \u001B[49m\u001B[38;5;66;43;03m# 지정한 모델로 학습할 것이라고 설정\u001B[39;49;00m\n\u001B[32m     18\u001B[39m \u001B[43m    \u001B[49m\u001B[38;5;66;43;03m# args=training_args, # 위에서 설정한 arguments(전달 인자)를 Trainer로 입력\u001B[39;49;00m\n\u001B[32m     19\u001B[39m \u001B[43m    \u001B[49m\u001B[43margs\u001B[49m\u001B[43m=\u001B[49m\u001B[43mSFTConfig\u001B[49m\u001B[43m(\u001B[49m\u001B[43moutput_dir\u001B[49m\u001B[43m=\u001B[49m\u001B[33;43m\"\u001B[39;49m\u001B[33;43m./ckpt\u001B[39;49m\u001B[33;43m\"\u001B[39;49m\u001B[43m)\u001B[49m\u001B[43m,\u001B[49m\n\u001B[32m     20\u001B[39m \u001B[43m    \u001B[49m\u001B[43mdata_collator\u001B[49m\u001B[43m=\u001B[49m\u001B[43mdata_collator\u001B[49m\u001B[43m,\u001B[49m\u001B[43m \u001B[49m\u001B[38;5;66;43;03m# 패딩, 마스킹 등 전처리 작업을 설정한 값을 전달\u001B[39;49;00m\n\u001B[32m     21\u001B[39m \u001B[43m    \u001B[49m\u001B[43mtrain_dataset\u001B[49m\u001B[43m=\u001B[49m\u001B[43mtrain_dataset\u001B[49m\u001B[43m,\u001B[49m\u001B[43m \u001B[49m\u001B[38;5;66;43;03m# 학습 데이터셋 전달\u001B[39;49;00m\n\u001B[32m     22\u001B[39m \u001B[43m    \u001B[49m\u001B[43mformatting_func\u001B[49m\u001B[43m=\u001B[49m\u001B[38;5;28;43;01mNone\u001B[39;49;00m\n\u001B[32m     23\u001B[39m \u001B[43m    \u001B[49m\u001B[38;5;66;43;03m# eval_dataset=test_dataset, # 평가 데이터셋 전달\u001B[39;49;00m\n\u001B[32m     24\u001B[39m \u001B[43m)\u001B[49m\n",
      "\u001B[36mFile \u001B[39m\u001B[32m~/Documents/Projects/S2/.venv/lib/python3.12/site-packages/trl/trainer/sft_trainer.py:194\u001B[39m, in \u001B[36mSFTTrainer.__init__\u001B[39m\u001B[34m(self, model, args, data_collator, train_dataset, eval_dataset, processing_class, compute_loss_func, compute_metrics, callbacks, optimizers, optimizer_cls_and_kwargs, preprocess_logits_for_metrics, peft_config, formatting_func)\u001B[39m\n\u001B[32m    192\u001B[39m preprocess_dataset = args.dataset_kwargs \u001B[38;5;129;01mis\u001B[39;00m \u001B[38;5;28;01mNone\u001B[39;00m \u001B[38;5;129;01mor\u001B[39;00m \u001B[38;5;129;01mnot\u001B[39;00m args.dataset_kwargs.get(\u001B[33m\"\u001B[39m\u001B[33mskip_prepare_dataset\u001B[39m\u001B[33m\"\u001B[39m, \u001B[38;5;28;01mFalse\u001B[39;00m)\n\u001B[32m    193\u001B[39m \u001B[38;5;28;01mif\u001B[39;00m preprocess_dataset:\n\u001B[32m--> \u001B[39m\u001B[32m194\u001B[39m     train_dataset = \u001B[38;5;28;43mself\u001B[39;49m\u001B[43m.\u001B[49m\u001B[43m_prepare_dataset\u001B[49m\u001B[43m(\u001B[49m\n\u001B[32m    195\u001B[39m \u001B[43m        \u001B[49m\u001B[43mtrain_dataset\u001B[49m\u001B[43m,\u001B[49m\u001B[43m \u001B[49m\u001B[43mprocessing_class\u001B[49m\u001B[43m,\u001B[49m\u001B[43m \u001B[49m\u001B[43margs\u001B[49m\u001B[43m,\u001B[49m\u001B[43m \u001B[49m\u001B[43margs\u001B[49m\u001B[43m.\u001B[49m\u001B[43mpacking\u001B[49m\u001B[43m,\u001B[49m\u001B[43m \u001B[49m\u001B[43mformatting_func\u001B[49m\u001B[43m,\u001B[49m\u001B[43m \u001B[49m\u001B[33;43m\"\u001B[39;49m\u001B[33;43mtrain\u001B[39;49m\u001B[33;43m\"\u001B[39;49m\n\u001B[32m    196\u001B[39m \u001B[43m    \u001B[49m\u001B[43m)\u001B[49m\n\u001B[32m    197\u001B[39m     \u001B[38;5;28;01mif\u001B[39;00m eval_dataset \u001B[38;5;129;01mis\u001B[39;00m \u001B[38;5;129;01mnot\u001B[39;00m \u001B[38;5;28;01mNone\u001B[39;00m:\n\u001B[32m    198\u001B[39m         packing = args.packing \u001B[38;5;28;01mif\u001B[39;00m args.eval_packing \u001B[38;5;129;01mis\u001B[39;00m \u001B[38;5;28;01mNone\u001B[39;00m \u001B[38;5;28;01melse\u001B[39;00m args.eval_packing\n",
      "\u001B[36mFile \u001B[39m\u001B[32m~/Documents/Projects/S2/.venv/lib/python3.12/site-packages/trl/trainer/sft_trainer.py:483\u001B[39m, in \u001B[36mSFTTrainer._prepare_dataset\u001B[39m\u001B[34m(self, dataset, processing_class, args, packing, formatting_func, dataset_name)\u001B[39m\n\u001B[32m    481\u001B[39m     \u001B[38;5;28;01mif\u001B[39;00m \u001B[38;5;28misinstance\u001B[39m(dataset, Dataset):  \u001B[38;5;66;03m# `IterableDataset.map` does not support `desc`\u001B[39;00m\n\u001B[32m    482\u001B[39m         map_kwargs[\u001B[33m\"\u001B[39m\u001B[33mdesc\u001B[39m\u001B[33m\"\u001B[39m] = \u001B[33mf\u001B[39m\u001B[33m\"\u001B[39m\u001B[33mTruncating \u001B[39m\u001B[38;5;132;01m{\u001B[39;00mdataset_name\u001B[38;5;132;01m}\u001B[39;00m\u001B[33m dataset\u001B[39m\u001B[33m\"\u001B[39m\n\u001B[32m--> \u001B[39m\u001B[32m483\u001B[39m     dataset = \u001B[43mtruncate_dataset\u001B[49m\u001B[43m(\u001B[49m\u001B[43mdataset\u001B[49m\u001B[43m,\u001B[49m\u001B[43m \u001B[49m\u001B[43margs\u001B[49m\u001B[43m.\u001B[49m\u001B[43mmax_length\u001B[49m\u001B[43m,\u001B[49m\u001B[43m \u001B[49m\u001B[43mmap_kwargs\u001B[49m\u001B[43m)\u001B[49m\n\u001B[32m    484\u001B[39m \u001B[38;5;66;03m# For Liger kernel, ensure only input_ids is present\u001B[39;00m\n\u001B[32m    485\u001B[39m \u001B[38;5;28;01mif\u001B[39;00m args.use_liger_kernel:\n",
      "\u001B[36mFile \u001B[39m\u001B[32m~/Documents/Projects/S2/.venv/lib/python3.12/site-packages/trl/data_utils.py:592\u001B[39m, in \u001B[36mtruncate_dataset\u001B[39m\u001B[34m(dataset, max_length, map_kwargs)\u001B[39m\n\u001B[32m    589\u001B[39m             truncated_examples[key] = column\n\u001B[32m    590\u001B[39m         \u001B[38;5;28;01mreturn\u001B[39;00m truncated_examples\n\u001B[32m--> \u001B[39m\u001B[32m592\u001B[39m     dataset = \u001B[43mdataset\u001B[49m\u001B[43m.\u001B[49m\u001B[43mmap\u001B[49m(\n\u001B[32m    593\u001B[39m         truncate,\n\u001B[32m    594\u001B[39m         batched=\u001B[38;5;28;01mTrue\u001B[39;00m,\n\u001B[32m    595\u001B[39m         **map_kwargs,\n\u001B[32m    596\u001B[39m     )\n\u001B[32m    597\u001B[39m \u001B[38;5;28;01mreturn\u001B[39;00m dataset\n",
      "\u001B[31mAttributeError\u001B[39m: 'TextStyleTransferDataset' object has no attribute 'map'"
     ]
    }
   ],
   "execution_count": 17
  },
  {
   "metadata": {
    "ExecuteTime": {
     "end_time": "2025-04-03T12:37:12.444899Z",
     "start_time": "2025-03-29T13:21:24.963023Z"
    }
   },
   "cell_type": "code",
   "source": "trainer.train() # 학습 시작",
   "id": "956599591c706826",
   "outputs": [
    {
     "name": "stdout",
     "output_type": "stream",
     "text": [
      "2103\n",
      "1004\n",
      "1432\n",
      "2737\n",
      "410\n",
      "2868\n",
      "2209\n",
      "2863\n",
      "2388\n",
      "1154\n",
      "2189\n",
      "1489\n",
      "2354\n",
      "557\n",
      "3044\n",
      "955\n",
      "1467\n",
      "2482\n",
      "2910\n",
      "1621\n",
      "2196\n",
      "1085\n",
      "2745\n",
      "134\n",
      "722\n",
      "696\n",
      "492\n",
      "1116\n",
      "1915\n",
      "1536\n",
      "441\n",
      "1947\n"
     ]
    },
    {
     "name": "stderr",
     "output_type": "stream",
     "text": [
      "/var/folders/lc/0bw1kcd572v6_tw8vvdwhb7r0000gn/T/ipykernel_37657/1457535890.py:13: FutureWarning: Series.__getitem__ treating keys as positions is deprecated. In a future version, integer keys will always be treated as labels (consistent with DataFrame behavior). To access a value by position, use `ser.iloc[pos]`\n",
      "  text1 = row[0] # 첫 번째 샘플\n",
      "/var/folders/lc/0bw1kcd572v6_tw8vvdwhb7r0000gn/T/ipykernel_37657/1457535890.py:14: FutureWarning: Series.__getitem__ treating keys as positions is deprecated. In a future version, integer keys will always be treated as labels (consistent with DataFrame behavior). To access a value by position, use `ser.iloc[pos]`\n",
      "  text2 = row[1] # 두 번째 샘플\n"
     ]
    },
    {
     "ename": "RuntimeError",
     "evalue": "expand(MPSFloatType{[16, 16, 1, 1, 100]}, size=[16, 1, 1, 100]): the number of sizes provided (4) must be greater or equal to the number of dimensions in the tensor (5)",
     "output_type": "error",
     "traceback": [
      "\u001B[31m---------------------------------------------------------------------------\u001B[39m",
      "\u001B[31mRuntimeError\u001B[39m                              Traceback (most recent call last)",
      "\u001B[36mCell\u001B[39m\u001B[36m \u001B[39m\u001B[32mIn[52]\u001B[39m\u001B[32m, line 1\u001B[39m\n\u001B[32m----> \u001B[39m\u001B[32m1\u001B[39m \u001B[43mtrainer\u001B[49m\u001B[43m.\u001B[49m\u001B[43mtrain\u001B[49m\u001B[43m(\u001B[49m\u001B[43m)\u001B[49m \u001B[38;5;66;03m# 학습 시작\u001B[39;00m\n",
      "\u001B[36mFile \u001B[39m\u001B[32m~/Documents/Projects/S2/.venv/lib/python3.12/site-packages/transformers/trainer.py:2245\u001B[39m, in \u001B[36mTrainer.train\u001B[39m\u001B[34m(self, resume_from_checkpoint, trial, ignore_keys_for_eval, **kwargs)\u001B[39m\n\u001B[32m   2243\u001B[39m         hf_hub_utils.enable_progress_bars()\n\u001B[32m   2244\u001B[39m \u001B[38;5;28;01melse\u001B[39;00m:\n\u001B[32m-> \u001B[39m\u001B[32m2245\u001B[39m     \u001B[38;5;28;01mreturn\u001B[39;00m \u001B[43minner_training_loop\u001B[49m\u001B[43m(\u001B[49m\n\u001B[32m   2246\u001B[39m \u001B[43m        \u001B[49m\u001B[43margs\u001B[49m\u001B[43m=\u001B[49m\u001B[43margs\u001B[49m\u001B[43m,\u001B[49m\n\u001B[32m   2247\u001B[39m \u001B[43m        \u001B[49m\u001B[43mresume_from_checkpoint\u001B[49m\u001B[43m=\u001B[49m\u001B[43mresume_from_checkpoint\u001B[49m\u001B[43m,\u001B[49m\n\u001B[32m   2248\u001B[39m \u001B[43m        \u001B[49m\u001B[43mtrial\u001B[49m\u001B[43m=\u001B[49m\u001B[43mtrial\u001B[49m\u001B[43m,\u001B[49m\n\u001B[32m   2249\u001B[39m \u001B[43m        \u001B[49m\u001B[43mignore_keys_for_eval\u001B[49m\u001B[43m=\u001B[49m\u001B[43mignore_keys_for_eval\u001B[49m\u001B[43m,\u001B[49m\n\u001B[32m   2250\u001B[39m \u001B[43m    \u001B[49m\u001B[43m)\u001B[49m\n",
      "\u001B[36mFile \u001B[39m\u001B[32m~/Documents/Projects/S2/.venv/lib/python3.12/site-packages/transformers/trainer.py:2556\u001B[39m, in \u001B[36mTrainer._inner_training_loop\u001B[39m\u001B[34m(self, batch_size, args, resume_from_checkpoint, trial, ignore_keys_for_eval)\u001B[39m\n\u001B[32m   2549\u001B[39m context = (\n\u001B[32m   2550\u001B[39m     functools.partial(\u001B[38;5;28mself\u001B[39m.accelerator.no_sync, model=model)\n\u001B[32m   2551\u001B[39m     \u001B[38;5;28;01mif\u001B[39;00m i != \u001B[38;5;28mlen\u001B[39m(batch_samples) - \u001B[32m1\u001B[39m\n\u001B[32m   2552\u001B[39m     \u001B[38;5;129;01mand\u001B[39;00m \u001B[38;5;28mself\u001B[39m.accelerator.distributed_type != DistributedType.DEEPSPEED\n\u001B[32m   2553\u001B[39m     \u001B[38;5;28;01melse\u001B[39;00m contextlib.nullcontext\n\u001B[32m   2554\u001B[39m )\n\u001B[32m   2555\u001B[39m \u001B[38;5;28;01mwith\u001B[39;00m context():\n\u001B[32m-> \u001B[39m\u001B[32m2556\u001B[39m     tr_loss_step = \u001B[38;5;28;43mself\u001B[39;49m\u001B[43m.\u001B[49m\u001B[43mtraining_step\u001B[49m\u001B[43m(\u001B[49m\u001B[43mmodel\u001B[49m\u001B[43m,\u001B[49m\u001B[43m \u001B[49m\u001B[43minputs\u001B[49m\u001B[43m,\u001B[49m\u001B[43m \u001B[49m\u001B[43mnum_items_in_batch\u001B[49m\u001B[43m)\u001B[49m\n\u001B[32m   2558\u001B[39m \u001B[38;5;28;01mif\u001B[39;00m (\n\u001B[32m   2559\u001B[39m     args.logging_nan_inf_filter\n\u001B[32m   2560\u001B[39m     \u001B[38;5;129;01mand\u001B[39;00m \u001B[38;5;129;01mnot\u001B[39;00m is_torch_xla_available()\n\u001B[32m   2561\u001B[39m     \u001B[38;5;129;01mand\u001B[39;00m (torch.isnan(tr_loss_step) \u001B[38;5;129;01mor\u001B[39;00m torch.isinf(tr_loss_step))\n\u001B[32m   2562\u001B[39m ):\n\u001B[32m   2563\u001B[39m     \u001B[38;5;66;03m# if loss is nan or inf simply add the average of previous logged losses\u001B[39;00m\n\u001B[32m   2564\u001B[39m     tr_loss = tr_loss + tr_loss / (\u001B[32m1\u001B[39m + \u001B[38;5;28mself\u001B[39m.state.global_step - \u001B[38;5;28mself\u001B[39m._globalstep_last_logged)\n",
      "\u001B[36mFile \u001B[39m\u001B[32m~/Documents/Projects/S2/.venv/lib/python3.12/site-packages/transformers/trainer.py:3718\u001B[39m, in \u001B[36mTrainer.training_step\u001B[39m\u001B[34m(self, model, inputs, num_items_in_batch)\u001B[39m\n\u001B[32m   3715\u001B[39m     \u001B[38;5;28;01mreturn\u001B[39;00m loss_mb.reduce_mean().detach().to(\u001B[38;5;28mself\u001B[39m.args.device)\n\u001B[32m   3717\u001B[39m \u001B[38;5;28;01mwith\u001B[39;00m \u001B[38;5;28mself\u001B[39m.compute_loss_context_manager():\n\u001B[32m-> \u001B[39m\u001B[32m3718\u001B[39m     loss = \u001B[38;5;28;43mself\u001B[39;49m\u001B[43m.\u001B[49m\u001B[43mcompute_loss\u001B[49m\u001B[43m(\u001B[49m\u001B[43mmodel\u001B[49m\u001B[43m,\u001B[49m\u001B[43m \u001B[49m\u001B[43minputs\u001B[49m\u001B[43m,\u001B[49m\u001B[43m \u001B[49m\u001B[43mnum_items_in_batch\u001B[49m\u001B[43m=\u001B[49m\u001B[43mnum_items_in_batch\u001B[49m\u001B[43m)\u001B[49m\n\u001B[32m   3720\u001B[39m \u001B[38;5;28;01mdel\u001B[39;00m inputs\n\u001B[32m   3721\u001B[39m \u001B[38;5;28;01mif\u001B[39;00m (\n\u001B[32m   3722\u001B[39m     \u001B[38;5;28mself\u001B[39m.args.torch_empty_cache_steps \u001B[38;5;129;01mis\u001B[39;00m \u001B[38;5;129;01mnot\u001B[39;00m \u001B[38;5;28;01mNone\u001B[39;00m\n\u001B[32m   3723\u001B[39m     \u001B[38;5;129;01mand\u001B[39;00m \u001B[38;5;28mself\u001B[39m.state.global_step % \u001B[38;5;28mself\u001B[39m.args.torch_empty_cache_steps == \u001B[32m0\u001B[39m\n\u001B[32m   3724\u001B[39m ):\n",
      "\u001B[36mFile \u001B[39m\u001B[32m~/Documents/Projects/S2/.venv/lib/python3.12/site-packages/transformers/trainer.py:3783\u001B[39m, in \u001B[36mTrainer.compute_loss\u001B[39m\u001B[34m(self, model, inputs, return_outputs, num_items_in_batch)\u001B[39m\n\u001B[32m   3781\u001B[39m         loss_kwargs[\u001B[33m\"\u001B[39m\u001B[33mnum_items_in_batch\u001B[39m\u001B[33m\"\u001B[39m] = num_items_in_batch\n\u001B[32m   3782\u001B[39m     inputs = {**inputs, **loss_kwargs}\n\u001B[32m-> \u001B[39m\u001B[32m3783\u001B[39m outputs = \u001B[43mmodel\u001B[49m\u001B[43m(\u001B[49m\u001B[43m*\u001B[49m\u001B[43m*\u001B[49m\u001B[43minputs\u001B[49m\u001B[43m)\u001B[49m\n\u001B[32m   3784\u001B[39m \u001B[38;5;66;03m# Save past state if it exists\u001B[39;00m\n\u001B[32m   3785\u001B[39m \u001B[38;5;66;03m# TODO: this needs to be fixed and made cleaner later.\u001B[39;00m\n\u001B[32m   3786\u001B[39m \u001B[38;5;28;01mif\u001B[39;00m \u001B[38;5;28mself\u001B[39m.args.past_index >= \u001B[32m0\u001B[39m:\n",
      "\u001B[36mFile \u001B[39m\u001B[32m~/Documents/Projects/S2/.venv/lib/python3.12/site-packages/torch/nn/modules/module.py:1739\u001B[39m, in \u001B[36mModule._wrapped_call_impl\u001B[39m\u001B[34m(self, *args, **kwargs)\u001B[39m\n\u001B[32m   1737\u001B[39m     \u001B[38;5;28;01mreturn\u001B[39;00m \u001B[38;5;28mself\u001B[39m._compiled_call_impl(*args, **kwargs)  \u001B[38;5;66;03m# type: ignore[misc]\u001B[39;00m\n\u001B[32m   1738\u001B[39m \u001B[38;5;28;01melse\u001B[39;00m:\n\u001B[32m-> \u001B[39m\u001B[32m1739\u001B[39m     \u001B[38;5;28;01mreturn\u001B[39;00m \u001B[38;5;28;43mself\u001B[39;49m\u001B[43m.\u001B[49m\u001B[43m_call_impl\u001B[49m\u001B[43m(\u001B[49m\u001B[43m*\u001B[49m\u001B[43margs\u001B[49m\u001B[43m,\u001B[49m\u001B[43m \u001B[49m\u001B[43m*\u001B[49m\u001B[43m*\u001B[49m\u001B[43mkwargs\u001B[49m\u001B[43m)\u001B[49m\n",
      "\u001B[36mFile \u001B[39m\u001B[32m~/Documents/Projects/S2/.venv/lib/python3.12/site-packages/torch/nn/modules/module.py:1750\u001B[39m, in \u001B[36mModule._call_impl\u001B[39m\u001B[34m(self, *args, **kwargs)\u001B[39m\n\u001B[32m   1745\u001B[39m \u001B[38;5;66;03m# If we don't have any hooks, we want to skip the rest of the logic in\u001B[39;00m\n\u001B[32m   1746\u001B[39m \u001B[38;5;66;03m# this function, and just call forward.\u001B[39;00m\n\u001B[32m   1747\u001B[39m \u001B[38;5;28;01mif\u001B[39;00m \u001B[38;5;129;01mnot\u001B[39;00m (\u001B[38;5;28mself\u001B[39m._backward_hooks \u001B[38;5;129;01mor\u001B[39;00m \u001B[38;5;28mself\u001B[39m._backward_pre_hooks \u001B[38;5;129;01mor\u001B[39;00m \u001B[38;5;28mself\u001B[39m._forward_hooks \u001B[38;5;129;01mor\u001B[39;00m \u001B[38;5;28mself\u001B[39m._forward_pre_hooks\n\u001B[32m   1748\u001B[39m         \u001B[38;5;129;01mor\u001B[39;00m _global_backward_pre_hooks \u001B[38;5;129;01mor\u001B[39;00m _global_backward_hooks\n\u001B[32m   1749\u001B[39m         \u001B[38;5;129;01mor\u001B[39;00m _global_forward_hooks \u001B[38;5;129;01mor\u001B[39;00m _global_forward_pre_hooks):\n\u001B[32m-> \u001B[39m\u001B[32m1750\u001B[39m     \u001B[38;5;28;01mreturn\u001B[39;00m \u001B[43mforward_call\u001B[49m\u001B[43m(\u001B[49m\u001B[43m*\u001B[49m\u001B[43margs\u001B[49m\u001B[43m,\u001B[49m\u001B[43m \u001B[49m\u001B[43m*\u001B[49m\u001B[43m*\u001B[49m\u001B[43mkwargs\u001B[49m\u001B[43m)\u001B[49m\n\u001B[32m   1752\u001B[39m result = \u001B[38;5;28;01mNone\u001B[39;00m\n\u001B[32m   1753\u001B[39m called_always_called_hooks = \u001B[38;5;28mset\u001B[39m()\n",
      "\u001B[36mFile \u001B[39m\u001B[32m~/Documents/Projects/S2/.venv/lib/python3.12/site-packages/transformers/utils/deprecation.py:172\u001B[39m, in \u001B[36mdeprecate_kwarg.<locals>.wrapper.<locals>.wrapped_func\u001B[39m\u001B[34m(*args, **kwargs)\u001B[39m\n\u001B[32m    168\u001B[39m \u001B[38;5;28;01melif\u001B[39;00m minimum_action \u001B[38;5;129;01min\u001B[39;00m (Action.NOTIFY, Action.NOTIFY_ALWAYS) \u001B[38;5;129;01mand\u001B[39;00m \u001B[38;5;129;01mnot\u001B[39;00m is_torchdynamo_compiling():\n\u001B[32m    169\u001B[39m     \u001B[38;5;66;03m# DeprecationWarning is ignored by default, so we use FutureWarning instead\u001B[39;00m\n\u001B[32m    170\u001B[39m     warnings.warn(message, \u001B[38;5;167;01mFutureWarning\u001B[39;00m, stacklevel=\u001B[32m2\u001B[39m)\n\u001B[32m--> \u001B[39m\u001B[32m172\u001B[39m \u001B[38;5;28;01mreturn\u001B[39;00m \u001B[43mfunc\u001B[49m\u001B[43m(\u001B[49m\u001B[43m*\u001B[49m\u001B[43margs\u001B[49m\u001B[43m,\u001B[49m\u001B[43m \u001B[49m\u001B[43m*\u001B[49m\u001B[43m*\u001B[49m\u001B[43mkwargs\u001B[49m\u001B[43m)\u001B[49m\n",
      "\u001B[36mFile \u001B[39m\u001B[32m~/Documents/Projects/S2/.venv/lib/python3.12/site-packages/transformers/models/llama/modeling_llama.py:853\u001B[39m, in \u001B[36mLlamaForCausalLM.forward\u001B[39m\u001B[34m(self, input_ids, attention_mask, position_ids, past_key_values, inputs_embeds, labels, use_cache, output_attentions, output_hidden_states, return_dict, cache_position, logits_to_keep, **kwargs)\u001B[39m\n\u001B[32m    850\u001B[39m return_dict = return_dict \u001B[38;5;28;01mif\u001B[39;00m return_dict \u001B[38;5;129;01mis\u001B[39;00m \u001B[38;5;129;01mnot\u001B[39;00m \u001B[38;5;28;01mNone\u001B[39;00m \u001B[38;5;28;01melse\u001B[39;00m \u001B[38;5;28mself\u001B[39m.config.use_return_dict\n\u001B[32m    852\u001B[39m \u001B[38;5;66;03m# decoder outputs consists of (dec_features, layer_state, dec_hidden, dec_attn)\u001B[39;00m\n\u001B[32m--> \u001B[39m\u001B[32m853\u001B[39m outputs = \u001B[38;5;28;43mself\u001B[39;49m\u001B[43m.\u001B[49m\u001B[43mmodel\u001B[49m\u001B[43m(\u001B[49m\n\u001B[32m    854\u001B[39m \u001B[43m    \u001B[49m\u001B[43minput_ids\u001B[49m\u001B[43m=\u001B[49m\u001B[43minput_ids\u001B[49m\u001B[43m,\u001B[49m\n\u001B[32m    855\u001B[39m \u001B[43m    \u001B[49m\u001B[43mattention_mask\u001B[49m\u001B[43m=\u001B[49m\u001B[43mattention_mask\u001B[49m\u001B[43m,\u001B[49m\n\u001B[32m    856\u001B[39m \u001B[43m    \u001B[49m\u001B[43mposition_ids\u001B[49m\u001B[43m=\u001B[49m\u001B[43mposition_ids\u001B[49m\u001B[43m,\u001B[49m\n\u001B[32m    857\u001B[39m \u001B[43m    \u001B[49m\u001B[43mpast_key_values\u001B[49m\u001B[43m=\u001B[49m\u001B[43mpast_key_values\u001B[49m\u001B[43m,\u001B[49m\n\u001B[32m    858\u001B[39m \u001B[43m    \u001B[49m\u001B[43minputs_embeds\u001B[49m\u001B[43m=\u001B[49m\u001B[43minputs_embeds\u001B[49m\u001B[43m,\u001B[49m\n\u001B[32m    859\u001B[39m \u001B[43m    \u001B[49m\u001B[43muse_cache\u001B[49m\u001B[43m=\u001B[49m\u001B[43muse_cache\u001B[49m\u001B[43m,\u001B[49m\n\u001B[32m    860\u001B[39m \u001B[43m    \u001B[49m\u001B[43moutput_attentions\u001B[49m\u001B[43m=\u001B[49m\u001B[43moutput_attentions\u001B[49m\u001B[43m,\u001B[49m\n\u001B[32m    861\u001B[39m \u001B[43m    \u001B[49m\u001B[43moutput_hidden_states\u001B[49m\u001B[43m=\u001B[49m\u001B[43moutput_hidden_states\u001B[49m\u001B[43m,\u001B[49m\n\u001B[32m    862\u001B[39m \u001B[43m    \u001B[49m\u001B[43mreturn_dict\u001B[49m\u001B[43m=\u001B[49m\u001B[43mreturn_dict\u001B[49m\u001B[43m,\u001B[49m\n\u001B[32m    863\u001B[39m \u001B[43m    \u001B[49m\u001B[43mcache_position\u001B[49m\u001B[43m=\u001B[49m\u001B[43mcache_position\u001B[49m\u001B[43m,\u001B[49m\n\u001B[32m    864\u001B[39m \u001B[43m    \u001B[49m\u001B[43m*\u001B[49m\u001B[43m*\u001B[49m\u001B[43mkwargs\u001B[49m\u001B[43m,\u001B[49m\n\u001B[32m    865\u001B[39m \u001B[43m\u001B[49m\u001B[43m)\u001B[49m\n\u001B[32m    867\u001B[39m hidden_states = outputs[\u001B[32m0\u001B[39m]\n\u001B[32m    868\u001B[39m \u001B[38;5;66;03m# Only compute necessary logits, and do not upcast them to float if we are not computing the loss\u001B[39;00m\n",
      "\u001B[36mFile \u001B[39m\u001B[32m~/Documents/Projects/S2/.venv/lib/python3.12/site-packages/torch/nn/modules/module.py:1739\u001B[39m, in \u001B[36mModule._wrapped_call_impl\u001B[39m\u001B[34m(self, *args, **kwargs)\u001B[39m\n\u001B[32m   1737\u001B[39m     \u001B[38;5;28;01mreturn\u001B[39;00m \u001B[38;5;28mself\u001B[39m._compiled_call_impl(*args, **kwargs)  \u001B[38;5;66;03m# type: ignore[misc]\u001B[39;00m\n\u001B[32m   1738\u001B[39m \u001B[38;5;28;01melse\u001B[39;00m:\n\u001B[32m-> \u001B[39m\u001B[32m1739\u001B[39m     \u001B[38;5;28;01mreturn\u001B[39;00m \u001B[38;5;28;43mself\u001B[39;49m\u001B[43m.\u001B[49m\u001B[43m_call_impl\u001B[49m\u001B[43m(\u001B[49m\u001B[43m*\u001B[49m\u001B[43margs\u001B[49m\u001B[43m,\u001B[49m\u001B[43m \u001B[49m\u001B[43m*\u001B[49m\u001B[43m*\u001B[49m\u001B[43mkwargs\u001B[49m\u001B[43m)\u001B[49m\n",
      "\u001B[36mFile \u001B[39m\u001B[32m~/Documents/Projects/S2/.venv/lib/python3.12/site-packages/torch/nn/modules/module.py:1750\u001B[39m, in \u001B[36mModule._call_impl\u001B[39m\u001B[34m(self, *args, **kwargs)\u001B[39m\n\u001B[32m   1745\u001B[39m \u001B[38;5;66;03m# If we don't have any hooks, we want to skip the rest of the logic in\u001B[39;00m\n\u001B[32m   1746\u001B[39m \u001B[38;5;66;03m# this function, and just call forward.\u001B[39;00m\n\u001B[32m   1747\u001B[39m \u001B[38;5;28;01mif\u001B[39;00m \u001B[38;5;129;01mnot\u001B[39;00m (\u001B[38;5;28mself\u001B[39m._backward_hooks \u001B[38;5;129;01mor\u001B[39;00m \u001B[38;5;28mself\u001B[39m._backward_pre_hooks \u001B[38;5;129;01mor\u001B[39;00m \u001B[38;5;28mself\u001B[39m._forward_hooks \u001B[38;5;129;01mor\u001B[39;00m \u001B[38;5;28mself\u001B[39m._forward_pre_hooks\n\u001B[32m   1748\u001B[39m         \u001B[38;5;129;01mor\u001B[39;00m _global_backward_pre_hooks \u001B[38;5;129;01mor\u001B[39;00m _global_backward_hooks\n\u001B[32m   1749\u001B[39m         \u001B[38;5;129;01mor\u001B[39;00m _global_forward_hooks \u001B[38;5;129;01mor\u001B[39;00m _global_forward_pre_hooks):\n\u001B[32m-> \u001B[39m\u001B[32m1750\u001B[39m     \u001B[38;5;28;01mreturn\u001B[39;00m \u001B[43mforward_call\u001B[49m\u001B[43m(\u001B[49m\u001B[43m*\u001B[49m\u001B[43margs\u001B[49m\u001B[43m,\u001B[49m\u001B[43m \u001B[49m\u001B[43m*\u001B[49m\u001B[43m*\u001B[49m\u001B[43mkwargs\u001B[49m\u001B[43m)\u001B[49m\n\u001B[32m   1752\u001B[39m result = \u001B[38;5;28;01mNone\u001B[39;00m\n\u001B[32m   1753\u001B[39m called_always_called_hooks = \u001B[38;5;28mset\u001B[39m()\n",
      "\u001B[36mFile \u001B[39m\u001B[32m~/Documents/Projects/S2/.venv/lib/python3.12/site-packages/transformers/models/llama/modeling_llama.py:571\u001B[39m, in \u001B[36mLlamaModel.forward\u001B[39m\u001B[34m(self, input_ids, attention_mask, position_ids, past_key_values, inputs_embeds, use_cache, output_attentions, output_hidden_states, return_dict, cache_position, **flash_attn_kwargs)\u001B[39m\n\u001B[32m    568\u001B[39m \u001B[38;5;28;01mif\u001B[39;00m position_ids \u001B[38;5;129;01mis\u001B[39;00m \u001B[38;5;28;01mNone\u001B[39;00m:\n\u001B[32m    569\u001B[39m     position_ids = cache_position.unsqueeze(\u001B[32m0\u001B[39m)\n\u001B[32m--> \u001B[39m\u001B[32m571\u001B[39m causal_mask = \u001B[38;5;28;43mself\u001B[39;49m\u001B[43m.\u001B[49m\u001B[43m_update_causal_mask\u001B[49m\u001B[43m(\u001B[49m\n\u001B[32m    572\u001B[39m \u001B[43m    \u001B[49m\u001B[43mattention_mask\u001B[49m\u001B[43m,\u001B[49m\u001B[43m \u001B[49m\u001B[43minputs_embeds\u001B[49m\u001B[43m,\u001B[49m\u001B[43m \u001B[49m\u001B[43mcache_position\u001B[49m\u001B[43m,\u001B[49m\u001B[43m \u001B[49m\u001B[43mpast_key_values\u001B[49m\u001B[43m,\u001B[49m\u001B[43m \u001B[49m\u001B[43moutput_attentions\u001B[49m\n\u001B[32m    573\u001B[39m \u001B[43m\u001B[49m\u001B[43m)\u001B[49m\n\u001B[32m    575\u001B[39m hidden_states = inputs_embeds\n\u001B[32m    577\u001B[39m \u001B[38;5;66;03m# create position embeddings to be shared across the decoder layers\u001B[39;00m\n",
      "\u001B[36mFile \u001B[39m\u001B[32m~/Documents/Projects/S2/.venv/lib/python3.12/site-packages/transformers/models/llama/modeling_llama.py:678\u001B[39m, in \u001B[36mLlamaModel._update_causal_mask\u001B[39m\u001B[34m(self, attention_mask, input_tensor, cache_position, past_key_values, output_attentions)\u001B[39m\n\u001B[32m    671\u001B[39m     target_length = (\n\u001B[32m    672\u001B[39m         attention_mask.shape[-\u001B[32m1\u001B[39m]\n\u001B[32m    673\u001B[39m         \u001B[38;5;28;01mif\u001B[39;00m \u001B[38;5;28misinstance\u001B[39m(attention_mask, torch.Tensor)\n\u001B[32m    674\u001B[39m         \u001B[38;5;28;01melse\u001B[39;00m past_seen_tokens + sequence_length + \u001B[32m1\u001B[39m\n\u001B[32m    675\u001B[39m     )\n\u001B[32m    677\u001B[39m \u001B[38;5;66;03m# In case the provided `attention` mask is 2D, we generate a causal mask here (4D).\u001B[39;00m\n\u001B[32m--> \u001B[39m\u001B[32m678\u001B[39m causal_mask = \u001B[38;5;28;43mself\u001B[39;49m\u001B[43m.\u001B[49m\u001B[43m_prepare_4d_causal_attention_mask_with_cache_position\u001B[49m\u001B[43m(\u001B[49m\n\u001B[32m    679\u001B[39m \u001B[43m    \u001B[49m\u001B[43mattention_mask\u001B[49m\u001B[43m,\u001B[49m\n\u001B[32m    680\u001B[39m \u001B[43m    \u001B[49m\u001B[43msequence_length\u001B[49m\u001B[43m=\u001B[49m\u001B[43msequence_length\u001B[49m\u001B[43m,\u001B[49m\n\u001B[32m    681\u001B[39m \u001B[43m    \u001B[49m\u001B[43mtarget_length\u001B[49m\u001B[43m=\u001B[49m\u001B[43mtarget_length\u001B[49m\u001B[43m,\u001B[49m\n\u001B[32m    682\u001B[39m \u001B[43m    \u001B[49m\u001B[43mdtype\u001B[49m\u001B[43m=\u001B[49m\u001B[43mdtype\u001B[49m\u001B[43m,\u001B[49m\n\u001B[32m    683\u001B[39m \u001B[43m    \u001B[49m\u001B[43mdevice\u001B[49m\u001B[43m=\u001B[49m\u001B[43mdevice\u001B[49m\u001B[43m,\u001B[49m\n\u001B[32m    684\u001B[39m \u001B[43m    \u001B[49m\u001B[43mcache_position\u001B[49m\u001B[43m=\u001B[49m\u001B[43mcache_position\u001B[49m\u001B[43m,\u001B[49m\n\u001B[32m    685\u001B[39m \u001B[43m    \u001B[49m\u001B[43mbatch_size\u001B[49m\u001B[43m=\u001B[49m\u001B[43minput_tensor\u001B[49m\u001B[43m.\u001B[49m\u001B[43mshape\u001B[49m\u001B[43m[\u001B[49m\u001B[32;43m0\u001B[39;49m\u001B[43m]\u001B[49m\u001B[43m,\u001B[49m\n\u001B[32m    686\u001B[39m \u001B[43m\u001B[49m\u001B[43m)\u001B[49m\n\u001B[32m    688\u001B[39m \u001B[38;5;28;01mif\u001B[39;00m (\n\u001B[32m    689\u001B[39m     \u001B[38;5;28mself\u001B[39m.config._attn_implementation == \u001B[33m\"\u001B[39m\u001B[33msdpa\u001B[39m\u001B[33m\"\u001B[39m\n\u001B[32m    690\u001B[39m     \u001B[38;5;129;01mand\u001B[39;00m attention_mask \u001B[38;5;129;01mis\u001B[39;00m \u001B[38;5;129;01mnot\u001B[39;00m \u001B[38;5;28;01mNone\u001B[39;00m\n\u001B[32m   (...)\u001B[39m\u001B[32m    695\u001B[39m     \u001B[38;5;66;03m# using left padding. This is required by F.scaled_dot_product_attention memory-efficient attention path.\u001B[39;00m\n\u001B[32m    696\u001B[39m     \u001B[38;5;66;03m# Details: https://github.com/pytorch/pytorch/issues/110213\u001B[39;00m\n\u001B[32m    697\u001B[39m     min_dtype = torch.finfo(dtype).min\n",
      "\u001B[36mFile \u001B[39m\u001B[32m~/Documents/Projects/S2/.venv/lib/python3.12/site-packages/transformers/models/llama/modeling_llama.py:754\u001B[39m, in \u001B[36mLlamaModel._prepare_4d_causal_attention_mask_with_cache_position\u001B[39m\u001B[34m(attention_mask, sequence_length, target_length, dtype, device, cache_position, batch_size, **kwargs)\u001B[39m\n\u001B[32m    750\u001B[39m         padding_mask = causal_mask[:, :, :, :mask_length] + attention_mask[:, \u001B[38;5;28;01mNone\u001B[39;00m, \u001B[38;5;28;01mNone\u001B[39;00m, :].to(\n\u001B[32m    751\u001B[39m             causal_mask.device\n\u001B[32m    752\u001B[39m         )\n\u001B[32m    753\u001B[39m         padding_mask = padding_mask == \u001B[32m0\u001B[39m\n\u001B[32m--> \u001B[39m\u001B[32m754\u001B[39m         \u001B[43mcausal_mask\u001B[49m\u001B[43m[\u001B[49m\u001B[43m:\u001B[49m\u001B[43m,\u001B[49m\u001B[43m \u001B[49m\u001B[43m:\u001B[49m\u001B[43m,\u001B[49m\u001B[43m \u001B[49m\u001B[43m:\u001B[49m\u001B[43m,\u001B[49m\u001B[43m \u001B[49m\u001B[43m:\u001B[49m\u001B[43mmask_length\u001B[49m\u001B[43m]\u001B[49m = causal_mask[:, :, :, :mask_length].masked_fill(\n\u001B[32m    755\u001B[39m             padding_mask, min_dtype\n\u001B[32m    756\u001B[39m         )\n\u001B[32m    758\u001B[39m \u001B[38;5;28;01mreturn\u001B[39;00m causal_mask\n",
      "\u001B[31mRuntimeError\u001B[39m: expand(MPSFloatType{[16, 16, 1, 1, 100]}, size=[16, 1, 1, 100]): the number of sizes provided (4) must be greater or equal to the number of dimensions in the tensor (5)"
     ]
    }
   ],
   "execution_count": 52
  },
  {
   "metadata": {},
   "cell_type": "code",
   "outputs": [],
   "execution_count": null,
   "source": "",
   "id": "b08619c2f04fa9de"
  }
 ],
 "metadata": {
  "kernelspec": {
   "display_name": "Python 3",
   "language": "python",
   "name": "python3"
  },
  "language_info": {
   "codemirror_mode": {
    "name": "ipython",
    "version": 2
   },
   "file_extension": ".py",
   "mimetype": "text/x-python",
   "name": "python",
   "nbconvert_exporter": "python",
   "pygments_lexer": "ipython2",
   "version": "2.7.6"
  }
 },
 "nbformat": 4,
 "nbformat_minor": 5
}
